{
  "nbformat": 4,
  "nbformat_minor": 0,
  "metadata": {
    "colab": {
      "name": "4_RandomForest.ipynb",
      "provenance": [],
      "collapsed_sections": [],
      "toc_visible": true,
      "authorship_tag": "ABX9TyNFec5SgOxFq205IoVVzRjI",
      "include_colab_link": true
    },
    "kernelspec": {
      "name": "python3",
      "display_name": "Python 3"
    }
  },
  "cells": [
    {
      "cell_type": "markdown",
      "metadata": {
        "id": "view-in-github",
        "colab_type": "text"
      },
      "source": [
        "<a href=\"https://colab.research.google.com/github/adamehayman/AMII/blob/main/4_RandomForest.ipynb\" target=\"_parent\"><img src=\"https://colab.research.google.com/assets/colab-badge.svg\" alt=\"Open In Colab\"/></a>"
      ]
    },
    {
      "cell_type": "code",
      "metadata": {
        "id": "cEsfrZdjfSXb"
      },
      "source": [
        "import numpy as np # for numeric computation\r\n",
        "import pandas as pd # for handling data in table format\r\n",
        "pd.set_option('display.max_rows', 200)\r\n",
        "import requests # for retrieving web addresses\r\n",
        "import io # for storing data\r\n",
        "import plotly.express as px # for visualization\r\n",
        "import math\r\n",
        "import matplotlib as mpl\r\n",
        "from matplotlib import pyplot as plt\r\n",
        "from mpl_toolkits.mplot3d import Axes3D\r\n",
        "from matplotlib import cm\r\n",
        "%matplotlib inline\r\n",
        "import warnings\r\n",
        "warnings.filterwarnings('ignore')\r\n",
        "import seaborn as sns\r\n",
        "plt.style.use('ggplot')"
      ],
      "execution_count": 1,
      "outputs": []
    },
    {
      "cell_type": "markdown",
      "metadata": {
        "id": "Fl253Tnt2x3O"
      },
      "source": [
        "## **Import Data**"
      ]
    },
    {
      "cell_type": "code",
      "metadata": {
        "colab": {
          "base_uri": "https://localhost:8080/"
        },
        "id": "UeZlO31l2xXT",
        "outputId": "b8d91776-79e1-4a5c-861e-162821911519"
      },
      "source": [
        "# Clone Git Repo\r\n",
        "!git clone -l -s git://github.com/adamehayman/AMII.git cloned-repo\r\n",
        "%cd cloned-repo\r\n",
        "!ls"
      ],
      "execution_count": 2,
      "outputs": [
        {
          "output_type": "stream",
          "text": [
            "Cloning into 'cloned-repo'...\n",
            "warning: --local is ignored\n",
            "remote: Enumerating objects: 129, done.\u001b[K\n",
            "remote: Counting objects: 100% (129/129), done.\u001b[K\n",
            "remote: Compressing objects: 100% (97/97), done.\u001b[K\n",
            "remote: Total 129 (delta 67), reused 86 (delta 31), pack-reused 0\u001b[K\n",
            "Receiving objects: 100% (129/129), 30.34 MiB | 19.97 MiB/s, done.\n",
            "Resolving deltas: 100% (67/67), done.\n",
            "/content/cloned-repo\n",
            "1_NASA_FD001_EDA.ipynb\t\t\t   FIgures.pptx\n",
            "2_10_Class_Decision_Tree_Classifier.ipynb  NASA_TurboFan_Data\n",
            "3_5_Class_Decision_Tree_Classifier.ipynb   README.md\n"
          ],
          "name": "stdout"
        }
      ]
    },
    {
      "cell_type": "code",
      "metadata": {
        "id": "jdoaLWLpzuTQ"
      },
      "source": [
        "X_train = pd.read_csv('/content/cloned-repo/NASA_TurboFan_Data/FD001/Classification_Data/X_train_scaled.csv')\r\n",
        "y_train = pd.read_csv('/content/cloned-repo/NASA_TurboFan_Data/FD001/Classification_Data/y_train.csv')\r\n",
        "\r\n",
        "X_val = pd.read_csv('/content/cloned-repo/NASA_TurboFan_Data/FD001/Classification_Data/X_val_scaled.csv')\r\n",
        "y_val = pd.read_csv('/content/cloned-repo/NASA_TurboFan_Data/FD001/Classification_Data/y_val.csv')\r\n",
        "\r\n",
        "X_test = pd.read_csv('/content/cloned-repo/NASA_TurboFan_Data/FD001/Classification_Data/X_test_scaled.csv')\r\n",
        "y_test = pd.read_csv('/content/cloned-repo/NASA_TurboFan_Data/FD001/Classification_Data/y_test.csv')"
      ],
      "execution_count": 3,
      "outputs": []
    },
    {
      "cell_type": "code",
      "metadata": {
        "id": "ZCBDyvXa0apQ"
      },
      "source": [
        "sensors = ['T24', 'T30', 'T50', 'P30', 'Ps30', 'phi', 'NRf', 'BPR', 'htBleed', 'w31', 'w32']"
      ],
      "execution_count": 4,
      "outputs": []
    },
    {
      "cell_type": "markdown",
      "metadata": {
        "id": "17-l13Rht4PA"
      },
      "source": [
        "### **Train RandomForest**"
      ]
    },
    {
      "cell_type": "code",
      "metadata": {
        "id": "FgOT6J9Efgvg"
      },
      "source": [
        "from sklearn.ensemble import RandomForestClassifier\r\n",
        "from sklearn.model_selection import GridSearchCV\r\n",
        "from sklearn.metrics import f1_score"
      ],
      "execution_count": 31,
      "outputs": []
    },
    {
      "cell_type": "code",
      "metadata": {
        "id": "ynceMRDEhyhh"
      },
      "source": [
        "RndFor = RandomForestClassifier(random_state=42)"
      ],
      "execution_count": 33,
      "outputs": []
    },
    {
      "cell_type": "code",
      "metadata": {
        "id": "YW1vnqm5uH0g"
      },
      "source": [
        "param_dict = {\r\n",
        "    'class_weight':['balanced', 'balanced_subsample'],\r\n",
        "    'n_estimators':range(100,500,50),\r\n",
        "}"
      ],
      "execution_count": 38,
      "outputs": []
    },
    {
      "cell_type": "code",
      "metadata": {
        "colab": {
          "base_uri": "https://localhost:8080/"
        },
        "id": "HQQP77Chvi7U",
        "outputId": "2bc3045c-6184-4370-a758-ddb9015ccae7"
      },
      "source": [
        "RndForGrid = GridSearchCV(RndFor,\r\n",
        "                          param_grid=param_dict,\r\n",
        "                          cv=5,\r\n",
        "                          verbose=1,\r\n",
        "                          n_jobs=-1)\r\n",
        "RndForGrid.fit(X_train, y_train)"
      ],
      "execution_count": 39,
      "outputs": [
        {
          "output_type": "stream",
          "text": [
            "Fitting 5 folds for each of 16 candidates, totalling 80 fits\n"
          ],
          "name": "stdout"
        },
        {
          "output_type": "stream",
          "text": [
            "[Parallel(n_jobs=-1)]: Using backend LokyBackend with 2 concurrent workers.\n",
            "[Parallel(n_jobs=-1)]: Done  46 tasks      | elapsed: 20.8min\n",
            "[Parallel(n_jobs=-1)]: Done  80 out of  80 | elapsed: 41.5min finished\n"
          ],
          "name": "stderr"
        },
        {
          "output_type": "execute_result",
          "data": {
            "text/plain": [
              "GridSearchCV(cv=5, error_score=nan,\n",
              "             estimator=RandomForestClassifier(bootstrap=True, ccp_alpha=0.0,\n",
              "                                              class_weight=None,\n",
              "                                              criterion='gini', max_depth=None,\n",
              "                                              max_features='auto',\n",
              "                                              max_leaf_nodes=None,\n",
              "                                              max_samples=None,\n",
              "                                              min_impurity_decrease=0.0,\n",
              "                                              min_impurity_split=None,\n",
              "                                              min_samples_leaf=1,\n",
              "                                              min_samples_split=2,\n",
              "                                              min_weight_fraction_leaf=0.0,\n",
              "                                              n_estimators=100, n_jobs=None,\n",
              "                                              oob_score=False, random_state=42,\n",
              "                                              verbose=0, warm_start=False),\n",
              "             iid='deprecated', n_jobs=-1,\n",
              "             param_grid={'class_weight': ['balanced', 'balanced_subsample'],\n",
              "                         'n_estimators': range(100, 500, 50)},\n",
              "             pre_dispatch='2*n_jobs', refit=True, return_train_score=False,\n",
              "             scoring=None, verbose=1)"
            ]
          },
          "metadata": {
            "tags": []
          },
          "execution_count": 39
        }
      ]
    },
    {
      "cell_type": "code",
      "metadata": {
        "id": "hzEmQR-dzMUg",
        "colab": {
          "base_uri": "https://localhost:8080/"
        },
        "outputId": "4c60bbaa-f676-4f7d-daff-45da310cf9d7"
      },
      "source": [
        "RndForGrid.best_params_"
      ],
      "execution_count": 40,
      "outputs": [
        {
          "output_type": "execute_result",
          "data": {
            "text/plain": [
              "{'class_weight': 'balanced', 'n_estimators': 350}"
            ]
          },
          "metadata": {
            "tags": []
          },
          "execution_count": 40
        }
      ]
    },
    {
      "cell_type": "code",
      "metadata": {
        "id": "a_hMga3azQSE",
        "colab": {
          "base_uri": "https://localhost:8080/"
        },
        "outputId": "e500fb85-7a14-40e2-b24c-d0b2b58241b1"
      },
      "source": [
        "RndForGrid.best_estimator_"
      ],
      "execution_count": 41,
      "outputs": [
        {
          "output_type": "execute_result",
          "data": {
            "text/plain": [
              "RandomForestClassifier(bootstrap=True, ccp_alpha=0.0, class_weight='balanced',\n",
              "                       criterion='gini', max_depth=None, max_features='auto',\n",
              "                       max_leaf_nodes=None, max_samples=None,\n",
              "                       min_impurity_decrease=0.0, min_impurity_split=None,\n",
              "                       min_samples_leaf=1, min_samples_split=2,\n",
              "                       min_weight_fraction_leaf=0.0, n_estimators=350,\n",
              "                       n_jobs=None, oob_score=False, random_state=42, verbose=0,\n",
              "                       warm_start=False)"
            ]
          },
          "metadata": {
            "tags": []
          },
          "execution_count": 41
        }
      ]
    },
    {
      "cell_type": "code",
      "metadata": {
        "id": "pvNMX2K_zVtL",
        "colab": {
          "base_uri": "https://localhost:8080/"
        },
        "outputId": "60b54e8f-abb4-4fc4-afc0-03019d50e175"
      },
      "source": [
        "RndForGrid.best_score_"
      ],
      "execution_count": 42,
      "outputs": [
        {
          "output_type": "execute_result",
          "data": {
            "text/plain": [
              "0.8634887480016793"
            ]
          },
          "metadata": {
            "tags": []
          },
          "execution_count": 42
        }
      ]
    },
    {
      "cell_type": "code",
      "metadata": {
        "id": "fc8rk5ub5DLZ"
      },
      "source": [
        "RndForScore = RndForGrid.best_score_"
      ],
      "execution_count": 44,
      "outputs": []
    },
    {
      "cell_type": "code",
      "metadata": {
        "colab": {
          "base_uri": "https://localhost:8080/"
        },
        "id": "XGfbvTvWryaz",
        "outputId": "7d7e481e-6554-4197-f3e4-4253bdef9c42"
      },
      "source": [
        "pip install -U yellowbrick"
      ],
      "execution_count": 14,
      "outputs": [
        {
          "output_type": "stream",
          "text": [
            "Collecting yellowbrick\n",
            "\u001b[?25l  Downloading https://files.pythonhosted.org/packages/3a/15/58feb940b6a2f52d3335cccf9e5d00704ec5ba62782da83f7e2abeca5e4b/yellowbrick-1.3.post1-py3-none-any.whl (271kB)\n",
            "\r\u001b[K     |█▏                              | 10kB 21.8MB/s eta 0:00:01\r\u001b[K     |██▍                             | 20kB 16.3MB/s eta 0:00:01\r\u001b[K     |███▋                            | 30kB 9.8MB/s eta 0:00:01\r\u001b[K     |████▉                           | 40kB 8.2MB/s eta 0:00:01\r\u001b[K     |██████                          | 51kB 6.8MB/s eta 0:00:01\r\u001b[K     |███████▎                        | 61kB 7.2MB/s eta 0:00:01\r\u001b[K     |████████▌                       | 71kB 7.8MB/s eta 0:00:01\r\u001b[K     |█████████▋                      | 81kB 7.3MB/s eta 0:00:01\r\u001b[K     |██████████▉                     | 92kB 7.7MB/s eta 0:00:01\r\u001b[K     |████████████                    | 102kB 7.9MB/s eta 0:00:01\r\u001b[K     |█████████████▎                  | 112kB 7.9MB/s eta 0:00:01\r\u001b[K     |██████████████▌                 | 122kB 7.9MB/s eta 0:00:01\r\u001b[K     |███████████████▊                | 133kB 7.9MB/s eta 0:00:01\r\u001b[K     |█████████████████               | 143kB 7.9MB/s eta 0:00:01\r\u001b[K     |██████████████████              | 153kB 7.9MB/s eta 0:00:01\r\u001b[K     |███████████████████▎            | 163kB 7.9MB/s eta 0:00:01\r\u001b[K     |████████████████████▌           | 174kB 7.9MB/s eta 0:00:01\r\u001b[K     |█████████████████████▊          | 184kB 7.9MB/s eta 0:00:01\r\u001b[K     |███████████████████████         | 194kB 7.9MB/s eta 0:00:01\r\u001b[K     |████████████████████████▏       | 204kB 7.9MB/s eta 0:00:01\r\u001b[K     |█████████████████████████▍      | 215kB 7.9MB/s eta 0:00:01\r\u001b[K     |██████████████████████████▋     | 225kB 7.9MB/s eta 0:00:01\r\u001b[K     |███████████████████████████▊    | 235kB 7.9MB/s eta 0:00:01\r\u001b[K     |█████████████████████████████   | 245kB 7.9MB/s eta 0:00:01\r\u001b[K     |██████████████████████████████▏ | 256kB 7.9MB/s eta 0:00:01\r\u001b[K     |███████████████████████████████▍| 266kB 7.9MB/s eta 0:00:01\r\u001b[K     |████████████████████████████████| 276kB 7.9MB/s \n",
            "\u001b[?25hRequirement already satisfied, skipping upgrade: cycler>=0.10.0 in /usr/local/lib/python3.6/dist-packages (from yellowbrick) (0.10.0)\n",
            "Requirement already satisfied, skipping upgrade: numpy<1.20,>=1.16.0 in /usr/local/lib/python3.6/dist-packages (from yellowbrick) (1.19.5)\n",
            "Requirement already satisfied, skipping upgrade: scipy>=1.0.0 in /usr/local/lib/python3.6/dist-packages (from yellowbrick) (1.4.1)\n",
            "Requirement already satisfied, skipping upgrade: matplotlib!=3.0.0,>=2.0.2 in /usr/local/lib/python3.6/dist-packages (from yellowbrick) (3.2.2)\n",
            "Requirement already satisfied, skipping upgrade: scikit-learn>=0.20 in /usr/local/lib/python3.6/dist-packages (from yellowbrick) (0.22.2.post1)\n",
            "Requirement already satisfied, skipping upgrade: six in /usr/local/lib/python3.6/dist-packages (from cycler>=0.10.0->yellowbrick) (1.15.0)\n",
            "Requirement already satisfied, skipping upgrade: kiwisolver>=1.0.1 in /usr/local/lib/python3.6/dist-packages (from matplotlib!=3.0.0,>=2.0.2->yellowbrick) (1.3.1)\n",
            "Requirement already satisfied, skipping upgrade: pyparsing!=2.0.4,!=2.1.2,!=2.1.6,>=2.0.1 in /usr/local/lib/python3.6/dist-packages (from matplotlib!=3.0.0,>=2.0.2->yellowbrick) (2.4.7)\n",
            "Requirement already satisfied, skipping upgrade: python-dateutil>=2.1 in /usr/local/lib/python3.6/dist-packages (from matplotlib!=3.0.0,>=2.0.2->yellowbrick) (2.8.1)\n",
            "Requirement already satisfied, skipping upgrade: joblib>=0.11 in /usr/local/lib/python3.6/dist-packages (from scikit-learn>=0.20->yellowbrick) (1.0.0)\n",
            "Installing collected packages: yellowbrick\n",
            "  Found existing installation: yellowbrick 0.9.1\n",
            "    Uninstalling yellowbrick-0.9.1:\n",
            "      Successfully uninstalled yellowbrick-0.9.1\n",
            "Successfully installed yellowbrick-1.3.post1\n"
          ],
          "name": "stdout"
        }
      ]
    },
    {
      "cell_type": "markdown",
      "metadata": {
        "id": "s9Sb57Ou7pp3"
      },
      "source": [
        "#### **Random Forest Evaluation**"
      ]
    },
    {
      "cell_type": "markdown",
      "metadata": {
        "id": "hKopa_fg7zS2"
      },
      "source": [
        "##### **Classification Report**"
      ]
    },
    {
      "cell_type": "code",
      "metadata": {
        "id": "eODfpXn67t1e"
      },
      "source": [
        "from yellowbrick.classifier import ClassificationReport"
      ],
      "execution_count": 15,
      "outputs": []
    },
    {
      "cell_type": "markdown",
      "metadata": {
        "id": "_sHcGMuk7-dV"
      },
      "source": [
        "**Validation Set**"
      ]
    },
    {
      "cell_type": "code",
      "metadata": {
        "colab": {
          "base_uri": "https://localhost:8080/",
          "height": 418
        },
        "id": "TXdW4jkP72on",
        "outputId": "811f0e8c-b7d8-4afb-e6fd-da449443a850"
      },
      "source": [
        "viz = ClassificationReport((RndFor), per_class=True, support=True)\r\n",
        "viz.fit(X_train, y_train)\r\n",
        "viz.score(X_val, y_val)\r\n",
        "viz.show()"
      ],
      "execution_count": 45,
      "outputs": [
        {
          "output_type": "display_data",
          "data": {
            "image/png": "[encoded data removed]",
            "text/plain": [
              "<Figure size 576x396 with 2 Axes>"
            ]
          },
          "metadata": {
            "tags": []
          }
        },
        {
          "output_type": "execute_result",
          "data": {
            "text/plain": [
              "<matplotlib.axes._subplots.AxesSubplot at 0x7f26ae3210f0>"
            ]
          },
          "metadata": {
            "tags": []
          },
          "execution_count": 45
        }
      ]
    },
    {
      "cell_type": "markdown",
      "metadata": {
        "id": "82j-gsXx8CN6"
      },
      "source": [
        "**Test Set**"
      ]
    },
    {
      "cell_type": "code",
      "metadata": {
        "colab": {
          "base_uri": "https://localhost:8080/",
          "height": 418
        },
        "id": "dFyFlvau76Fu",
        "outputId": "96d564a5-2f5c-4ac0-c1f9-0a566e7e782e"
      },
      "source": [
        "viz = ClassificationReport((RndFor), per_class=True, support=True)\r\n",
        "viz.fit(X_train, y_train)\r\n",
        "viz.score(X_test, y_test)\r\n",
        "viz.show()"
      ],
      "execution_count": 46,
      "outputs": [
        {
          "output_type": "display_data",
          "data": {
            "image/png": "[encoded data removed]",
            "text/plain": [
              "<Figure size 576x396 with 2 Axes>"
            ]
          },
          "metadata": {
            "tags": []
          }
        },
        {
          "output_type": "execute_result",
          "data": {
            "text/plain": [
              "<matplotlib.axes._subplots.AxesSubplot at 0x7f26ae3a9da0>"
            ]
          },
          "metadata": {
            "tags": []
          },
          "execution_count": 46
        }
      ]
    },
    {
      "cell_type": "code",
      "metadata": {
        "id": "KnbQyllXsSAV"
      },
      "source": [
        ""
      ],
      "execution_count": 17,
      "outputs": []
    }
  ]
}